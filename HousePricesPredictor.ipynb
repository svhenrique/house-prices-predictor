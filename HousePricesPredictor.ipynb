{
  "nbformat": 4,
  "nbformat_minor": 0,
  "metadata": {
    "colab": {
      "name": "HousePricesPredictor.ipynb",
      "provenance": [],
      "authorship_tag": "ABX9TyNWDmh3dNOPzU53EMDYHFvw",
      "include_colab_link": true
    },
    "kernelspec": {
      "name": "python3",
      "display_name": "Python 3"
    },
    "language_info": {
      "name": "python"
    }
  },
  "cells": [
    {
      "cell_type": "markdown",
      "metadata": {
        "id": "view-in-github",
        "colab_type": "text"
      },
      "source": [
        "<a href=\"https://colab.research.google.com/github/svhenrique/house-prices-predictor/blob/main/HousePricesPredictor.ipynb\" target=\"_parent\"><img src=\"https://colab.research.google.com/assets/colab-badge.svg\" alt=\"Open In Colab\"/></a>"
      ]
    },
    {
      "cell_type": "markdown",
      "metadata": {
        "id": "Ls-HgPQlviIl"
      },
      "source": [
        "## Importando Bibliotécas necessárias "
      ]
    },
    {
      "cell_type": "code",
      "metadata": {
        "colab": {
          "base_uri": "https://localhost:8080/"
        },
        "id": "yGH8QzB4pDSV",
        "outputId": "9d2f1a9d-4b70-489c-a77c-a03919040dab"
      },
      "source": [
        "# montando drive (para o colab)\n",
        "from google.colab import drive\n",
        "drive.mount('/content/drive/')"
      ],
      "execution_count": 3,
      "outputs": [
        {
          "output_type": "stream",
          "name": "stdout",
          "text": [
            "Drive already mounted at /content/drive/; to attempt to forcibly remount, call drive.mount(\"/content/drive/\", force_remount=True).\n"
          ]
        }
      ]
    },
    {
      "cell_type": "code",
      "metadata": {
        "id": "a5vs3-vCvp4z"
      },
      "source": [
        "# importando bibliotecas necessárias\n",
        "import os\n",
        "import pandas as pd\n",
        "from matplotlib import pyplot as plt\n",
        "import numpy as np\n",
        "import seaborn as sns\n",
        "\n",
        "from sklearn.model_selection import train_test_split \n",
        "from sklearn.linear_model import LinearRegression\n",
        "from sklearn.tree import DecisionTreeRegressor\n",
        "from sklearn.ensemble import RandomForestRegressor\n",
        "from sklearn.neural_network import MLPRegressor\n",
        "\n",
        "from sklearn.model_selection import cross_val_score\n",
        "\n",
        "from sklearn.metrics import mean_absolute_error\n",
        "from sklearn.metrics import mean_squared_error"
      ],
      "execution_count": 4,
      "outputs": []
    },
    {
      "cell_type": "code",
      "source": [
        ""
      ],
      "metadata": {
        "id": "KjXKumZNEBiT"
      },
      "execution_count": 4,
      "outputs": []
    },
    {
      "cell_type": "markdown",
      "metadata": {
        "id": "H9lgjncUvuLg"
      },
      "source": [
        "## Lendo dados"
      ]
    },
    {
      "cell_type": "code",
      "metadata": {
        "id": "_jyqTgErvvdB"
      },
      "source": [
        "# dados em pasta \n",
        "pasta = '/content/drive/My Drive/datasets/house-prices/'"
      ],
      "execution_count": 5,
      "outputs": []
    },
    {
      "cell_type": "code",
      "metadata": {
        "id": "URJnleqVv-Cf"
      },
      "source": [
        "# lendo dados de treino e teste\n",
        "train_data = pd.read_csv(pasta + 'train.csv')\n",
        "test_data = pd.read_csv(pasta + 'test.csv')"
      ],
      "execution_count": 6,
      "outputs": []
    }
  ]
}