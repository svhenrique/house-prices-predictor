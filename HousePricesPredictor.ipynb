{
  "nbformat": 4,
  "nbformat_minor": 0,
  "metadata": {
    "colab": {
      "name": "HousePricesPredictor.ipynb",
      "provenance": [],
      "collapsed_sections": [
        "Ls-HgPQlviIl",
        "H9lgjncUvuLg",
        "rWmoqFuUOPTo"
      ],
      "authorship_tag": "ABX9TyPvnH7Ght+WfTwFUuUFUEXk",
      "include_colab_link": true
    },
    "kernelspec": {
      "name": "python3",
      "display_name": "Python 3"
    },
    "language_info": {
      "name": "python"
    }
  },
  "cells": [
    {
      "cell_type": "markdown",
      "metadata": {
        "id": "view-in-github",
        "colab_type": "text"
      },
      "source": [
        "<a href=\"https://colab.research.google.com/github/svhenrique/house-prices-predictor/blob/main/HousePricesPredictor.ipynb\" target=\"_parent\"><img src=\"https://colab.research.google.com/assets/colab-badge.svg\" alt=\"Open In Colab\"/></a>"
      ]
    },
    {
      "cell_type": "markdown",
      "metadata": {
        "id": "Ls-HgPQlviIl"
      },
      "source": [
        "## Importando Bibliotécas necessárias"
      ]
    },
    {
      "cell_type": "code",
      "metadata": {
        "colab": {
          "base_uri": "https://localhost:8080/"
        },
        "id": "yGH8QzB4pDSV",
        "outputId": "da0d076f-c321-4574-a4b8-c472c01991fa"
      },
      "source": [
        "# montando drive (para o colab)\n",
        "from google.colab import drive\n",
        "drive.mount('/content/drive/')"
      ],
      "execution_count": 66,
      "outputs": [
        {
          "output_type": "stream",
          "name": "stdout",
          "text": [
            "Drive already mounted at /content/drive/; to attempt to forcibly remount, call drive.mount(\"/content/drive/\", force_remount=True).\n"
          ]
        }
      ]
    },
    {
      "cell_type": "code",
      "metadata": {
        "id": "a5vs3-vCvp4z"
      },
      "source": [
        "# importando bibliotecas necessárias\n",
        "import os\n",
        "import pandas as pd\n",
        "from matplotlib import pyplot as plt\n",
        "import numpy as np\n",
        "import seaborn as sns\n",
        "\n",
        "from sklearn.model_selection import train_test_split \n",
        "from sklearn.linear_model import LinearRegression\n",
        "from sklearn.tree import DecisionTreeRegressor\n",
        "from sklearn.ensemble import RandomForestRegressor\n",
        "from sklearn.neural_network import MLPRegressor\n",
        "\n",
        "from sklearn.model_selection import cross_val_score\n",
        "\n",
        "from sklearn.metrics import mean_absolute_error\n",
        "from sklearn.metrics import mean_squared_error"
      ],
      "execution_count": 67,
      "outputs": []
    },
    {
      "cell_type": "code",
      "source": [
        ""
      ],
      "metadata": {
        "id": "KjXKumZNEBiT"
      },
      "execution_count": 67,
      "outputs": []
    },
    {
      "cell_type": "markdown",
      "metadata": {
        "id": "H9lgjncUvuLg"
      },
      "source": [
        "## Lendo dados"
      ]
    },
    {
      "cell_type": "code",
      "metadata": {
        "id": "_jyqTgErvvdB"
      },
      "source": [
        "# dados em pasta \n",
        "pasta = '/content/drive/My Drive/datasets/house-prices/'"
      ],
      "execution_count": 68,
      "outputs": []
    },
    {
      "cell_type": "code",
      "metadata": {
        "id": "URJnleqVv-Cf"
      },
      "source": [
        "# lendo dados de treino e teste\n",
        "train_data = pd.read_csv(pasta + 'train.csv')\n",
        "test_data = pd.read_csv(pasta + 'test.csv')"
      ],
      "execution_count": 69,
      "outputs": []
    },
    {
      "cell_type": "markdown",
      "source": [
        "## Limpeza e organização dos dados"
      ],
      "metadata": {
        "id": "Q6BG7hgpFP51"
      }
    },
    {
      "cell_type": "code",
      "source": [
        "# mostrando shape resultante\n",
        "print('Train data shape: ', train_data.shape)\n",
        "print('Test data shape: ', test_data.shape)"
      ],
      "metadata": {
        "colab": {
          "base_uri": "https://localhost:8080/"
        },
        "id": "zHQqoefOSuK-",
        "outputId": "f043d5d9-b751-4178-85fc-ff17945879f4"
      },
      "execution_count": 70,
      "outputs": [
        {
          "output_type": "stream",
          "name": "stdout",
          "text": [
            "Train data shape:  (1460, 81)\n",
            "Test data shape:  (1459, 80)\n"
          ]
        }
      ]
    },
    {
      "cell_type": "markdown",
      "source": [
        "### Limpando dados"
      ],
      "metadata": {
        "id": "rWmoqFuUOPTo"
      }
    },
    {
      "cell_type": "code",
      "source": [
        "# removendo dados nan de train_data\n",
        "train_data.dropna(how='any',axis=0)"
      ],
      "metadata": {
        "colab": {
          "base_uri": "https://localhost:8080/",
          "height": 143
        },
        "id": "OZ8FMnxMLR9j",
        "outputId": "dcb6e633-cc39-4519-a0db-5b8c20b2c7b3"
      },
      "execution_count": 71,
      "outputs": [
        {
          "output_type": "execute_result",
          "data": {
            "text/html": [
              "\n",
              "  <div id=\"df-82decd00-f9b6-4c8c-b1ca-cde25f61f344\">\n",
              "    <div class=\"colab-df-container\">\n",
              "      <div>\n",
              "<style scoped>\n",
              "    .dataframe tbody tr th:only-of-type {\n",
              "        vertical-align: middle;\n",
              "    }\n",
              "\n",
              "    .dataframe tbody tr th {\n",
              "        vertical-align: top;\n",
              "    }\n",
              "\n",
              "    .dataframe thead th {\n",
              "        text-align: right;\n",
              "    }\n",
              "</style>\n",
              "<table border=\"1\" class=\"dataframe\">\n",
              "  <thead>\n",
              "    <tr style=\"text-align: right;\">\n",
              "      <th></th>\n",
              "      <th>Id</th>\n",
              "      <th>MSSubClass</th>\n",
              "      <th>MSZoning</th>\n",
              "      <th>LotFrontage</th>\n",
              "      <th>LotArea</th>\n",
              "      <th>Street</th>\n",
              "      <th>Alley</th>\n",
              "      <th>LotShape</th>\n",
              "      <th>LandContour</th>\n",
              "      <th>Utilities</th>\n",
              "      <th>LotConfig</th>\n",
              "      <th>LandSlope</th>\n",
              "      <th>Neighborhood</th>\n",
              "      <th>Condition1</th>\n",
              "      <th>Condition2</th>\n",
              "      <th>BldgType</th>\n",
              "      <th>HouseStyle</th>\n",
              "      <th>OverallQual</th>\n",
              "      <th>OverallCond</th>\n",
              "      <th>YearBuilt</th>\n",
              "      <th>YearRemodAdd</th>\n",
              "      <th>RoofStyle</th>\n",
              "      <th>RoofMatl</th>\n",
              "      <th>Exterior1st</th>\n",
              "      <th>Exterior2nd</th>\n",
              "      <th>MasVnrType</th>\n",
              "      <th>MasVnrArea</th>\n",
              "      <th>ExterQual</th>\n",
              "      <th>ExterCond</th>\n",
              "      <th>Foundation</th>\n",
              "      <th>BsmtQual</th>\n",
              "      <th>BsmtCond</th>\n",
              "      <th>BsmtExposure</th>\n",
              "      <th>BsmtFinType1</th>\n",
              "      <th>BsmtFinSF1</th>\n",
              "      <th>BsmtFinType2</th>\n",
              "      <th>BsmtFinSF2</th>\n",
              "      <th>BsmtUnfSF</th>\n",
              "      <th>TotalBsmtSF</th>\n",
              "      <th>Heating</th>\n",
              "      <th>...</th>\n",
              "      <th>CentralAir</th>\n",
              "      <th>Electrical</th>\n",
              "      <th>1stFlrSF</th>\n",
              "      <th>2ndFlrSF</th>\n",
              "      <th>LowQualFinSF</th>\n",
              "      <th>GrLivArea</th>\n",
              "      <th>BsmtFullBath</th>\n",
              "      <th>BsmtHalfBath</th>\n",
              "      <th>FullBath</th>\n",
              "      <th>HalfBath</th>\n",
              "      <th>BedroomAbvGr</th>\n",
              "      <th>KitchenAbvGr</th>\n",
              "      <th>KitchenQual</th>\n",
              "      <th>TotRmsAbvGrd</th>\n",
              "      <th>Functional</th>\n",
              "      <th>Fireplaces</th>\n",
              "      <th>FireplaceQu</th>\n",
              "      <th>GarageType</th>\n",
              "      <th>GarageYrBlt</th>\n",
              "      <th>GarageFinish</th>\n",
              "      <th>GarageCars</th>\n",
              "      <th>GarageArea</th>\n",
              "      <th>GarageQual</th>\n",
              "      <th>GarageCond</th>\n",
              "      <th>PavedDrive</th>\n",
              "      <th>WoodDeckSF</th>\n",
              "      <th>OpenPorchSF</th>\n",
              "      <th>EnclosedPorch</th>\n",
              "      <th>3SsnPorch</th>\n",
              "      <th>ScreenPorch</th>\n",
              "      <th>PoolArea</th>\n",
              "      <th>PoolQC</th>\n",
              "      <th>Fence</th>\n",
              "      <th>MiscFeature</th>\n",
              "      <th>MiscVal</th>\n",
              "      <th>MoSold</th>\n",
              "      <th>YrSold</th>\n",
              "      <th>SaleType</th>\n",
              "      <th>SaleCondition</th>\n",
              "      <th>SalePrice</th>\n",
              "    </tr>\n",
              "  </thead>\n",
              "  <tbody>\n",
              "  </tbody>\n",
              "</table>\n",
              "<p>0 rows × 81 columns</p>\n",
              "</div>\n",
              "      <button class=\"colab-df-convert\" onclick=\"convertToInteractive('df-82decd00-f9b6-4c8c-b1ca-cde25f61f344')\"\n",
              "              title=\"Convert this dataframe to an interactive table.\"\n",
              "              style=\"display:none;\">\n",
              "        \n",
              "  <svg xmlns=\"http://www.w3.org/2000/svg\" height=\"24px\"viewBox=\"0 0 24 24\"\n",
              "       width=\"24px\">\n",
              "    <path d=\"M0 0h24v24H0V0z\" fill=\"none\"/>\n",
              "    <path d=\"M18.56 5.44l.94 2.06.94-2.06 2.06-.94-2.06-.94-.94-2.06-.94 2.06-2.06.94zm-11 1L8.5 8.5l.94-2.06 2.06-.94-2.06-.94L8.5 2.5l-.94 2.06-2.06.94zm10 10l.94 2.06.94-2.06 2.06-.94-2.06-.94-.94-2.06-.94 2.06-2.06.94z\"/><path d=\"M17.41 7.96l-1.37-1.37c-.4-.4-.92-.59-1.43-.59-.52 0-1.04.2-1.43.59L10.3 9.45l-7.72 7.72c-.78.78-.78 2.05 0 2.83L4 21.41c.39.39.9.59 1.41.59.51 0 1.02-.2 1.41-.59l7.78-7.78 2.81-2.81c.8-.78.8-2.07 0-2.86zM5.41 20L4 18.59l7.72-7.72 1.47 1.35L5.41 20z\"/>\n",
              "  </svg>\n",
              "      </button>\n",
              "      \n",
              "  <style>\n",
              "    .colab-df-container {\n",
              "      display:flex;\n",
              "      flex-wrap:wrap;\n",
              "      gap: 12px;\n",
              "    }\n",
              "\n",
              "    .colab-df-convert {\n",
              "      background-color: #E8F0FE;\n",
              "      border: none;\n",
              "      border-radius: 50%;\n",
              "      cursor: pointer;\n",
              "      display: none;\n",
              "      fill: #1967D2;\n",
              "      height: 32px;\n",
              "      padding: 0 0 0 0;\n",
              "      width: 32px;\n",
              "    }\n",
              "\n",
              "    .colab-df-convert:hover {\n",
              "      background-color: #E2EBFA;\n",
              "      box-shadow: 0px 1px 2px rgba(60, 64, 67, 0.3), 0px 1px 3px 1px rgba(60, 64, 67, 0.15);\n",
              "      fill: #174EA6;\n",
              "    }\n",
              "\n",
              "    [theme=dark] .colab-df-convert {\n",
              "      background-color: #3B4455;\n",
              "      fill: #D2E3FC;\n",
              "    }\n",
              "\n",
              "    [theme=dark] .colab-df-convert:hover {\n",
              "      background-color: #434B5C;\n",
              "      box-shadow: 0px 1px 3px 1px rgba(0, 0, 0, 0.15);\n",
              "      filter: drop-shadow(0px 1px 2px rgba(0, 0, 0, 0.3));\n",
              "      fill: #FFFFFF;\n",
              "    }\n",
              "  </style>\n",
              "\n",
              "      <script>\n",
              "        const buttonEl =\n",
              "          document.querySelector('#df-82decd00-f9b6-4c8c-b1ca-cde25f61f344 button.colab-df-convert');\n",
              "        buttonEl.style.display =\n",
              "          google.colab.kernel.accessAllowed ? 'block' : 'none';\n",
              "\n",
              "        async function convertToInteractive(key) {\n",
              "          const element = document.querySelector('#df-82decd00-f9b6-4c8c-b1ca-cde25f61f344');\n",
              "          const dataTable =\n",
              "            await google.colab.kernel.invokeFunction('convertToInteractive',\n",
              "                                                     [key], {});\n",
              "          if (!dataTable) return;\n",
              "\n",
              "          const docLinkHtml = 'Like what you see? Visit the ' +\n",
              "            '<a target=\"_blank\" href=https://colab.research.google.com/notebooks/data_table.ipynb>data table notebook</a>'\n",
              "            + ' to learn more about interactive tables.';\n",
              "          element.innerHTML = '';\n",
              "          dataTable['output_type'] = 'display_data';\n",
              "          await google.colab.output.renderOutput(dataTable, element);\n",
              "          const docLink = document.createElement('div');\n",
              "          docLink.innerHTML = docLinkHtml;\n",
              "          element.appendChild(docLink);\n",
              "        }\n",
              "      </script>\n",
              "    </div>\n",
              "  </div>\n",
              "  "
            ],
            "text/plain": [
              "Empty DataFrame\n",
              "Columns: [Id, MSSubClass, MSZoning, LotFrontage, LotArea, Street, Alley, LotShape, LandContour, Utilities, LotConfig, LandSlope, Neighborhood, Condition1, Condition2, BldgType, HouseStyle, OverallQual, OverallCond, YearBuilt, YearRemodAdd, RoofStyle, RoofMatl, Exterior1st, Exterior2nd, MasVnrType, MasVnrArea, ExterQual, ExterCond, Foundation, BsmtQual, BsmtCond, BsmtExposure, BsmtFinType1, BsmtFinSF1, BsmtFinType2, BsmtFinSF2, BsmtUnfSF, TotalBsmtSF, Heating, HeatingQC, CentralAir, Electrical, 1stFlrSF, 2ndFlrSF, LowQualFinSF, GrLivArea, BsmtFullBath, BsmtHalfBath, FullBath, HalfBath, BedroomAbvGr, KitchenAbvGr, KitchenQual, TotRmsAbvGrd, Functional, Fireplaces, FireplaceQu, GarageType, GarageYrBlt, GarageFinish, GarageCars, GarageArea, GarageQual, GarageCond, PavedDrive, WoodDeckSF, OpenPorchSF, EnclosedPorch, 3SsnPorch, ScreenPorch, PoolArea, PoolQC, Fence, MiscFeature, MiscVal, MoSold, YrSold, SaleType, SaleCondition, SalePrice]\n",
              "Index: []\n",
              "\n",
              "[0 rows x 81 columns]"
            ]
          },
          "metadata": {},
          "execution_count": 71
        }
      ]
    },
    {
      "cell_type": "code",
      "source": [
        "# removendo dados nan de test_data\n",
        "test_data.dropna(how='any',axis=0)"
      ],
      "metadata": {
        "colab": {
          "base_uri": "https://localhost:8080/",
          "height": 113
        },
        "id": "_SHVwtEGLjUE",
        "outputId": "c33d4666-d21c-41a9-8f53-ac662dfb6698"
      },
      "execution_count": 72,
      "outputs": [
        {
          "output_type": "execute_result",
          "data": {
            "text/html": [
              "\n",
              "  <div id=\"df-2c4c5170-cd00-44e3-8c90-971cc99b07e6\">\n",
              "    <div class=\"colab-df-container\">\n",
              "      <div>\n",
              "<style scoped>\n",
              "    .dataframe tbody tr th:only-of-type {\n",
              "        vertical-align: middle;\n",
              "    }\n",
              "\n",
              "    .dataframe tbody tr th {\n",
              "        vertical-align: top;\n",
              "    }\n",
              "\n",
              "    .dataframe thead th {\n",
              "        text-align: right;\n",
              "    }\n",
              "</style>\n",
              "<table border=\"1\" class=\"dataframe\">\n",
              "  <thead>\n",
              "    <tr style=\"text-align: right;\">\n",
              "      <th></th>\n",
              "      <th>Id</th>\n",
              "      <th>MSSubClass</th>\n",
              "      <th>MSZoning</th>\n",
              "      <th>LotFrontage</th>\n",
              "      <th>LotArea</th>\n",
              "      <th>Street</th>\n",
              "      <th>Alley</th>\n",
              "      <th>LotShape</th>\n",
              "      <th>LandContour</th>\n",
              "      <th>Utilities</th>\n",
              "      <th>LotConfig</th>\n",
              "      <th>LandSlope</th>\n",
              "      <th>Neighborhood</th>\n",
              "      <th>Condition1</th>\n",
              "      <th>Condition2</th>\n",
              "      <th>BldgType</th>\n",
              "      <th>HouseStyle</th>\n",
              "      <th>OverallQual</th>\n",
              "      <th>OverallCond</th>\n",
              "      <th>YearBuilt</th>\n",
              "      <th>YearRemodAdd</th>\n",
              "      <th>RoofStyle</th>\n",
              "      <th>RoofMatl</th>\n",
              "      <th>Exterior1st</th>\n",
              "      <th>Exterior2nd</th>\n",
              "      <th>MasVnrType</th>\n",
              "      <th>MasVnrArea</th>\n",
              "      <th>ExterQual</th>\n",
              "      <th>ExterCond</th>\n",
              "      <th>Foundation</th>\n",
              "      <th>BsmtQual</th>\n",
              "      <th>BsmtCond</th>\n",
              "      <th>BsmtExposure</th>\n",
              "      <th>BsmtFinType1</th>\n",
              "      <th>BsmtFinSF1</th>\n",
              "      <th>BsmtFinType2</th>\n",
              "      <th>BsmtFinSF2</th>\n",
              "      <th>BsmtUnfSF</th>\n",
              "      <th>TotalBsmtSF</th>\n",
              "      <th>Heating</th>\n",
              "      <th>HeatingQC</th>\n",
              "      <th>CentralAir</th>\n",
              "      <th>Electrical</th>\n",
              "      <th>1stFlrSF</th>\n",
              "      <th>2ndFlrSF</th>\n",
              "      <th>LowQualFinSF</th>\n",
              "      <th>GrLivArea</th>\n",
              "      <th>BsmtFullBath</th>\n",
              "      <th>BsmtHalfBath</th>\n",
              "      <th>FullBath</th>\n",
              "      <th>HalfBath</th>\n",
              "      <th>BedroomAbvGr</th>\n",
              "      <th>KitchenAbvGr</th>\n",
              "      <th>KitchenQual</th>\n",
              "      <th>TotRmsAbvGrd</th>\n",
              "      <th>Functional</th>\n",
              "      <th>Fireplaces</th>\n",
              "      <th>FireplaceQu</th>\n",
              "      <th>GarageType</th>\n",
              "      <th>GarageYrBlt</th>\n",
              "      <th>GarageFinish</th>\n",
              "      <th>GarageCars</th>\n",
              "      <th>GarageArea</th>\n",
              "      <th>GarageQual</th>\n",
              "      <th>GarageCond</th>\n",
              "      <th>PavedDrive</th>\n",
              "      <th>WoodDeckSF</th>\n",
              "      <th>OpenPorchSF</th>\n",
              "      <th>EnclosedPorch</th>\n",
              "      <th>3SsnPorch</th>\n",
              "      <th>ScreenPorch</th>\n",
              "      <th>PoolArea</th>\n",
              "      <th>PoolQC</th>\n",
              "      <th>Fence</th>\n",
              "      <th>MiscFeature</th>\n",
              "      <th>MiscVal</th>\n",
              "      <th>MoSold</th>\n",
              "      <th>YrSold</th>\n",
              "      <th>SaleType</th>\n",
              "      <th>SaleCondition</th>\n",
              "    </tr>\n",
              "  </thead>\n",
              "  <tbody>\n",
              "  </tbody>\n",
              "</table>\n",
              "</div>\n",
              "      <button class=\"colab-df-convert\" onclick=\"convertToInteractive('df-2c4c5170-cd00-44e3-8c90-971cc99b07e6')\"\n",
              "              title=\"Convert this dataframe to an interactive table.\"\n",
              "              style=\"display:none;\">\n",
              "        \n",
              "  <svg xmlns=\"http://www.w3.org/2000/svg\" height=\"24px\"viewBox=\"0 0 24 24\"\n",
              "       width=\"24px\">\n",
              "    <path d=\"M0 0h24v24H0V0z\" fill=\"none\"/>\n",
              "    <path d=\"M18.56 5.44l.94 2.06.94-2.06 2.06-.94-2.06-.94-.94-2.06-.94 2.06-2.06.94zm-11 1L8.5 8.5l.94-2.06 2.06-.94-2.06-.94L8.5 2.5l-.94 2.06-2.06.94zm10 10l.94 2.06.94-2.06 2.06-.94-2.06-.94-.94-2.06-.94 2.06-2.06.94z\"/><path d=\"M17.41 7.96l-1.37-1.37c-.4-.4-.92-.59-1.43-.59-.52 0-1.04.2-1.43.59L10.3 9.45l-7.72 7.72c-.78.78-.78 2.05 0 2.83L4 21.41c.39.39.9.59 1.41.59.51 0 1.02-.2 1.41-.59l7.78-7.78 2.81-2.81c.8-.78.8-2.07 0-2.86zM5.41 20L4 18.59l7.72-7.72 1.47 1.35L5.41 20z\"/>\n",
              "  </svg>\n",
              "      </button>\n",
              "      \n",
              "  <style>\n",
              "    .colab-df-container {\n",
              "      display:flex;\n",
              "      flex-wrap:wrap;\n",
              "      gap: 12px;\n",
              "    }\n",
              "\n",
              "    .colab-df-convert {\n",
              "      background-color: #E8F0FE;\n",
              "      border: none;\n",
              "      border-radius: 50%;\n",
              "      cursor: pointer;\n",
              "      display: none;\n",
              "      fill: #1967D2;\n",
              "      height: 32px;\n",
              "      padding: 0 0 0 0;\n",
              "      width: 32px;\n",
              "    }\n",
              "\n",
              "    .colab-df-convert:hover {\n",
              "      background-color: #E2EBFA;\n",
              "      box-shadow: 0px 1px 2px rgba(60, 64, 67, 0.3), 0px 1px 3px 1px rgba(60, 64, 67, 0.15);\n",
              "      fill: #174EA6;\n",
              "    }\n",
              "\n",
              "    [theme=dark] .colab-df-convert {\n",
              "      background-color: #3B4455;\n",
              "      fill: #D2E3FC;\n",
              "    }\n",
              "\n",
              "    [theme=dark] .colab-df-convert:hover {\n",
              "      background-color: #434B5C;\n",
              "      box-shadow: 0px 1px 3px 1px rgba(0, 0, 0, 0.15);\n",
              "      filter: drop-shadow(0px 1px 2px rgba(0, 0, 0, 0.3));\n",
              "      fill: #FFFFFF;\n",
              "    }\n",
              "  </style>\n",
              "\n",
              "      <script>\n",
              "        const buttonEl =\n",
              "          document.querySelector('#df-2c4c5170-cd00-44e3-8c90-971cc99b07e6 button.colab-df-convert');\n",
              "        buttonEl.style.display =\n",
              "          google.colab.kernel.accessAllowed ? 'block' : 'none';\n",
              "\n",
              "        async function convertToInteractive(key) {\n",
              "          const element = document.querySelector('#df-2c4c5170-cd00-44e3-8c90-971cc99b07e6');\n",
              "          const dataTable =\n",
              "            await google.colab.kernel.invokeFunction('convertToInteractive',\n",
              "                                                     [key], {});\n",
              "          if (!dataTable) return;\n",
              "\n",
              "          const docLinkHtml = 'Like what you see? Visit the ' +\n",
              "            '<a target=\"_blank\" href=https://colab.research.google.com/notebooks/data_table.ipynb>data table notebook</a>'\n",
              "            + ' to learn more about interactive tables.';\n",
              "          element.innerHTML = '';\n",
              "          dataTable['output_type'] = 'display_data';\n",
              "          await google.colab.output.renderOutput(dataTable, element);\n",
              "          const docLink = document.createElement('div');\n",
              "          docLink.innerHTML = docLinkHtml;\n",
              "          element.appendChild(docLink);\n",
              "        }\n",
              "      </script>\n",
              "    </div>\n",
              "  </div>\n",
              "  "
            ],
            "text/plain": [
              "Empty DataFrame\n",
              "Columns: [Id, MSSubClass, MSZoning, LotFrontage, LotArea, Street, Alley, LotShape, LandContour, Utilities, LotConfig, LandSlope, Neighborhood, Condition1, Condition2, BldgType, HouseStyle, OverallQual, OverallCond, YearBuilt, YearRemodAdd, RoofStyle, RoofMatl, Exterior1st, Exterior2nd, MasVnrType, MasVnrArea, ExterQual, ExterCond, Foundation, BsmtQual, BsmtCond, BsmtExposure, BsmtFinType1, BsmtFinSF1, BsmtFinType2, BsmtFinSF2, BsmtUnfSF, TotalBsmtSF, Heating, HeatingQC, CentralAir, Electrical, 1stFlrSF, 2ndFlrSF, LowQualFinSF, GrLivArea, BsmtFullBath, BsmtHalfBath, FullBath, HalfBath, BedroomAbvGr, KitchenAbvGr, KitchenQual, TotRmsAbvGrd, Functional, Fireplaces, FireplaceQu, GarageType, GarageYrBlt, GarageFinish, GarageCars, GarageArea, GarageQual, GarageCond, PavedDrive, WoodDeckSF, OpenPorchSF, EnclosedPorch, 3SsnPorch, ScreenPorch, PoolArea, PoolQC, Fence, MiscFeature, MiscVal, MoSold, YrSold, SaleType, SaleCondition]\n",
              "Index: []"
            ]
          },
          "metadata": {},
          "execution_count": 72
        }
      ]
    },
    {
      "cell_type": "markdown",
      "source": [
        "É possível observar que todas as linhas foram apagadas, isso indica que existem valores \"nan\" em todas as instâncias. Entretanto, isso é uma confusão que o pandas fez ao ler o atributo \"NA\" de \"Alley\", que significa \"No alley access\"."
      ],
      "metadata": {
        "id": "85K7eHYILma6"
      }
    },
    {
      "cell_type": "code",
      "source": [
        "# observando as features com maiores ocorrências de nan \n",
        "train_data.isnull().sum()[train_data.isnull().sum() > len(train_data)/2]"
      ],
      "metadata": {
        "colab": {
          "base_uri": "https://localhost:8080/"
        },
        "id": "pzEtbXQDMScW",
        "outputId": "df217e16-f867-458e-eb26-48ecbd2cd72c"
      },
      "execution_count": 73,
      "outputs": [
        {
          "output_type": "execute_result",
          "data": {
            "text/plain": [
              "Alley          1369\n",
              "PoolQC         1453\n",
              "Fence          1179\n",
              "MiscFeature    1406\n",
              "dtype: int64"
            ]
          },
          "metadata": {},
          "execution_count": 73
        }
      ]
    },
    {
      "cell_type": "markdown",
      "source": [
        "Logo, essas 4 features podem ter valores normais que são lidos como nan."
      ],
      "metadata": {
        "id": "WX7vG7VDMuRe"
      }
    },
    {
      "cell_type": "markdown",
      "source": [
        "Eu irei seguir o glossário de valores para identificar atributos como \"NA\" que realmente significam algo, evitando perca de dados."
      ],
      "metadata": {
        "id": "Eo3Q4klQS-3F"
      }
    },
    {
      "cell_type": "code",
      "source": [
        "# Existem valores NA, que são confundidos com nans, sobre nas colunas a seguir\n",
        "print(train_data['Alley'].unique())\n",
        "print(train_data['PoolQC'].unique())\n",
        "print(train_data['Fence'].unique())\n",
        "print(train_data['MiscFeature'].unique())\n",
        "print(train_data['BsmtQual'].unique())\n",
        "print(train_data['BsmtCond'].unique())\n",
        "print(train_data['BsmtExposure'].unique())\n",
        "print(train_data['BsmtFinType1'].unique())\n",
        "print(train_data['BsmtFinType2'].unique())\n",
        "print(train_data['FireplaceQu'].unique())\n",
        "print(train_data['GarageType'].unique())\n",
        "print(train_data['GarageFinish'].unique())\n",
        "print(train_data['GarageQual'].unique())\n",
        "print(train_data['GarageCond'].unique())"
      ],
      "metadata": {
        "colab": {
          "base_uri": "https://localhost:8080/"
        },
        "id": "xc3Y2X21M9h0",
        "outputId": "ef03cb24-917c-4da9-df08-503d2f11a33e"
      },
      "execution_count": 74,
      "outputs": [
        {
          "output_type": "stream",
          "name": "stdout",
          "text": [
            "[nan 'Grvl' 'Pave']\n",
            "[nan 'Ex' 'Fa' 'Gd']\n",
            "[nan 'MnPrv' 'GdWo' 'GdPrv' 'MnWw']\n",
            "[nan 'Shed' 'Gar2' 'Othr' 'TenC']\n",
            "['Gd' 'TA' 'Ex' nan 'Fa']\n",
            "['TA' 'Gd' nan 'Fa' 'Po']\n",
            "['No' 'Gd' 'Mn' 'Av' nan]\n",
            "['GLQ' 'ALQ' 'Unf' 'Rec' 'BLQ' nan 'LwQ']\n",
            "['Unf' 'BLQ' nan 'ALQ' 'Rec' 'LwQ' 'GLQ']\n",
            "[nan 'TA' 'Gd' 'Fa' 'Ex' 'Po']\n",
            "['Attchd' 'Detchd' 'BuiltIn' 'CarPort' nan 'Basment' '2Types']\n",
            "['RFn' 'Unf' 'Fin' nan]\n",
            "['TA' 'Fa' 'Gd' nan 'Ex' 'Po']\n",
            "['TA' 'Fa' nan 'Gd' 'Po' 'Ex']\n"
          ]
        }
      ]
    },
    {
      "cell_type": "code",
      "source": [
        "# inserindo o valor \"NA\" (No alley access) para os nan em Alley de treino e teste\n",
        "train_data['Alley'] = train_data['Alley'].fillna('NA')\n",
        "test_data['Alley'] = test_data['Alley'].fillna('NA')"
      ],
      "metadata": {
        "id": "jE8bRd7wRUE0"
      },
      "execution_count": 75,
      "outputs": []
    },
    {
      "cell_type": "code",
      "source": [
        "# inserindo o valor \"NA\" (No Pool) para os nan em Alley de treino e teste\n",
        "train_data['PoolQC'] = train_data['PoolQC'].fillna('NA')\n",
        "test_data['PoolQC'] = test_data['PoolQC'].fillna('NA')"
      ],
      "metadata": {
        "id": "W2dLMsUbHQiF"
      },
      "execution_count": 76,
      "outputs": []
    },
    {
      "cell_type": "code",
      "source": [
        "# inserindo o valor \"NA\" (No Fencel) para os nan em PoolQC de treino e teste\n",
        "train_data['Fence'] = train_data['Fence'].fillna('NA')\n",
        "test_data['Fence'] = test_data['Fence'].fillna('NA')"
      ],
      "metadata": {
        "id": "cWLQtfE4MIbb"
      },
      "execution_count": 77,
      "outputs": []
    },
    {
      "cell_type": "code",
      "source": [
        "# inserindo o valor \"NA\" (None) para os nan em PoolQC de treino e teste\n",
        "train_data['MiscFeature'] = train_data['MiscFeature'].fillna('NA')\n",
        "test_data['MiscFeature'] = test_data['MiscFeature'].fillna('NA')"
      ],
      "metadata": {
        "id": "YSTZnTxhRMaG"
      },
      "execution_count": 78,
      "outputs": []
    },
    {
      "cell_type": "code",
      "source": [
        "# inserindo o valor \"NA\" (No Basement) para os nan em BsmtQual de treino e teste\n",
        "train_data['BsmtQual'] = train_data['BsmtQual'].fillna('NA')\n",
        "test_data['BsmtQual'] = test_data['BsmtQual'].fillna('NA')"
      ],
      "metadata": {
        "id": "vQkIqL1dUIuD"
      },
      "execution_count": 79,
      "outputs": []
    },
    {
      "cell_type": "code",
      "source": [
        "# inserindo o valor \"NA\" (No Basement) para os nan em BsmtCond de treino e teste\n",
        "train_data['BsmtCond'] = train_data['BsmtCond'].fillna('NA')\n",
        "test_data['BsmtCond'] = test_data['BsmtCond'].fillna('NA')"
      ],
      "metadata": {
        "id": "b5kBqjX4UIwp"
      },
      "execution_count": 80,
      "outputs": []
    },
    {
      "cell_type": "code",
      "source": [
        "# inserindo o valor \"NA\" (No Basement) para os nan em BsmtExposure de treino e teste\n",
        "train_data['BsmtExposure'] = train_data['BsmtExposure'].fillna('NA')\n",
        "test_data['BsmtExposure'] = test_data['BsmtExposure'].fillna('NA')"
      ],
      "metadata": {
        "id": "b3L7vhC-UIzg"
      },
      "execution_count": 81,
      "outputs": []
    },
    {
      "cell_type": "code",
      "source": [
        "# inserindo o valor \"NA\" (No Basement) para os nan em BsmtFinType1 de treino e teste\n",
        "train_data['BsmtFinType1'] = train_data['BsmtFinType1'].fillna('NA')\n",
        "test_data['BsmtFinType1'] = test_data['BsmtFinType1'].fillna('NA')"
      ],
      "metadata": {
        "id": "43xtSqKAUI3b"
      },
      "execution_count": 82,
      "outputs": []
    },
    {
      "cell_type": "code",
      "source": [
        "# inserindo o valor \"NA\" (No Basement) para os nan em BsmtFinType2 de treino e teste\n",
        "train_data['BsmtFinType2'] = train_data['BsmtFinType2'].fillna('NA')\n",
        "test_data['BsmtFinType2'] = test_data['BsmtFinType2'].fillna('NA')"
      ],
      "metadata": {
        "id": "MSw9pEDXUI8s"
      },
      "execution_count": 83,
      "outputs": []
    },
    {
      "cell_type": "code",
      "source": [
        "# inserindo o valor \"NA\" (No Fireplace) para os nan em FireplaceQu de treino e teste\n",
        "train_data['FireplaceQu'] = train_data['FireplaceQu'].fillna('NA')\n",
        "test_data['FireplaceQu'] = test_data['FireplaceQu'].fillna('NA')"
      ],
      "metadata": {
        "id": "DrejKnyDUHwU"
      },
      "execution_count": 84,
      "outputs": []
    },
    {
      "cell_type": "code",
      "source": [
        "# inserindo o valor \"NA\" (No Garage) para os nan em GarageType de treino e teste\n",
        "train_data['GarageType'] = train_data['GarageType'].fillna('NA')\n",
        "test_data['GarageType'] = test_data['GarageType'].fillna('NA')"
      ],
      "metadata": {
        "id": "5X754LRHUrAn"
      },
      "execution_count": 85,
      "outputs": []
    },
    {
      "cell_type": "code",
      "source": [
        "# inserindo o valor \"NA\" (No Garage) para os nan em GarageFinish de treino e teste\n",
        "train_data['GarageFinish'] = train_data['GarageFinish'].fillna('NA')\n",
        "test_data['GarageFinish'] = test_data['GarageFinish'].fillna('NA')"
      ],
      "metadata": {
        "id": "38kTeSPDUueh"
      },
      "execution_count": 86,
      "outputs": []
    },
    {
      "cell_type": "code",
      "source": [
        "# inserindo o valor \"NA\" (No Garage) para os nan em GarageQual de treino e teste\n",
        "train_data['GarageQual'] = train_data['GarageQual'].fillna('NA')\n",
        "test_data['GarageQual'] = test_data['GarageQual'].fillna('NA')"
      ],
      "metadata": {
        "id": "oJsx3B43Uugj"
      },
      "execution_count": 87,
      "outputs": []
    },
    {
      "cell_type": "code",
      "source": [
        "# inserindo o valor \"NA\" (No Garage) para os nan em GarageCond de treino e teste\n",
        "train_data['GarageCond'] = train_data['GarageCond'].fillna('NA')\n",
        "test_data['GarageCond'] = test_data['GarageCond'].fillna('NA')"
      ],
      "metadata": {
        "id": "7i2eu6RPUujM"
      },
      "execution_count": 88,
      "outputs": []
    },
    {
      "cell_type": "code",
      "source": [
        "# removendo os dados nan verdadeiros dos datasets\n",
        "train_data = train_data.dropna(how='any',axis=0)\n",
        "test_data = test_data.dropna(how='any',axis=0)"
      ],
      "metadata": {
        "id": "jLqTHkrCSBIZ"
      },
      "execution_count": 89,
      "outputs": []
    },
    {
      "cell_type": "code",
      "source": [
        "# mostrando shape resultante\n",
        "print('Train data shape: ', train_data.shape)\n",
        "print('Test data shape: ', test_data.shape)"
      ],
      "metadata": {
        "colab": {
          "base_uri": "https://localhost:8080/"
        },
        "id": "lb1WDtTPSaq-",
        "outputId": "6acbbf42-cc6b-4eab-ed31-708d84b5cb93"
      },
      "execution_count": 90,
      "outputs": [
        {
          "output_type": "stream",
          "name": "stdout",
          "text": [
            "Train data shape:  (1120, 81)\n",
            "Test data shape:  (1139, 80)\n"
          ]
        }
      ]
    },
    {
      "cell_type": "code",
      "source": [
        "# removendo coluna id (pois ela é inútil para a criação do modelo) \n",
        "train_data.drop('Id', inplace=True, axis=1)\n",
        "test_data.drop('Id', inplace=True, axis=1)"
      ],
      "metadata": {
        "id": "BLfyD5shcSg2",
        "colab": {
          "base_uri": "https://localhost:8080/"
        },
        "outputId": "fd63e0cd-8754-4901-ca95-187de03b2896"
      },
      "execution_count": 91,
      "outputs": [
        {
          "output_type": "stream",
          "name": "stderr",
          "text": [
            "/usr/local/lib/python3.7/dist-packages/pandas/core/frame.py:4913: SettingWithCopyWarning: \n",
            "A value is trying to be set on a copy of a slice from a DataFrame\n",
            "\n",
            "See the caveats in the documentation: https://pandas.pydata.org/pandas-docs/stable/user_guide/indexing.html#returning-a-view-versus-a-copy\n",
            "  errors=errors,\n"
          ]
        }
      ]
    },
    {
      "cell_type": "markdown",
      "source": [
        "### Organizando dados"
      ],
      "metadata": {
        "id": "0UT8InPrORbm"
      }
    },
    {
      "cell_type": "code",
      "source": [
        "train_data.columns"
      ],
      "metadata": {
        "colab": {
          "base_uri": "https://localhost:8080/"
        },
        "id": "vWHogodbg36_",
        "outputId": "1c4f2724-26f5-4fed-f527-4fa285839d17"
      },
      "execution_count": 92,
      "outputs": [
        {
          "output_type": "execute_result",
          "data": {
            "text/plain": [
              "Index(['MSSubClass', 'MSZoning', 'LotFrontage', 'LotArea', 'Street', 'Alley',\n",
              "       'LotShape', 'LandContour', 'Utilities', 'LotConfig', 'LandSlope',\n",
              "       'Neighborhood', 'Condition1', 'Condition2', 'BldgType', 'HouseStyle',\n",
              "       'OverallQual', 'OverallCond', 'YearBuilt', 'YearRemodAdd', 'RoofStyle',\n",
              "       'RoofMatl', 'Exterior1st', 'Exterior2nd', 'MasVnrType', 'MasVnrArea',\n",
              "       'ExterQual', 'ExterCond', 'Foundation', 'BsmtQual', 'BsmtCond',\n",
              "       'BsmtExposure', 'BsmtFinType1', 'BsmtFinSF1', 'BsmtFinType2',\n",
              "       'BsmtFinSF2', 'BsmtUnfSF', 'TotalBsmtSF', 'Heating', 'HeatingQC',\n",
              "       'CentralAir', 'Electrical', '1stFlrSF', '2ndFlrSF', 'LowQualFinSF',\n",
              "       'GrLivArea', 'BsmtFullBath', 'BsmtHalfBath', 'FullBath', 'HalfBath',\n",
              "       'BedroomAbvGr', 'KitchenAbvGr', 'KitchenQual', 'TotRmsAbvGrd',\n",
              "       'Functional', 'Fireplaces', 'FireplaceQu', 'GarageType', 'GarageYrBlt',\n",
              "       'GarageFinish', 'GarageCars', 'GarageArea', 'GarageQual', 'GarageCond',\n",
              "       'PavedDrive', 'WoodDeckSF', 'OpenPorchSF', 'EnclosedPorch', '3SsnPorch',\n",
              "       'ScreenPorch', 'PoolArea', 'PoolQC', 'Fence', 'MiscFeature', 'MiscVal',\n",
              "       'MoSold', 'YrSold', 'SaleType', 'SaleCondition', 'SalePrice'],\n",
              "      dtype='object')"
            ]
          },
          "metadata": {},
          "execution_count": 92
        }
      ]
    },
    {
      "cell_type": "code",
      "source": [
        "column = 'MSZoning'\n",
        "print(list(train_data[column].unique()))\n",
        "print(list(test_data[column].unique()))"
      ],
      "metadata": {
        "colab": {
          "base_uri": "https://localhost:8080/"
        },
        "id": "Xc8TkPWLhXry",
        "outputId": "ecc91e0f-08a2-4ada-d50f-036d31e44ef5"
      },
      "execution_count": 93,
      "outputs": [
        {
          "output_type": "stream",
          "name": "stdout",
          "text": [
            "['RL', 'RM', 'C (all)', 'FV', 'RH']\n",
            "['RH', 'RL', 'RM', 'FV', 'C (all)']\n"
          ]
        }
      ]
    },
    {
      "cell_type": "code",
      "source": [
        "# transformando dados categóricos em dados numéricos\n",
        "\n",
        "columns = list(train_data.columns)\n",
        "columns.remove('SalePrice')\n",
        "\n",
        "for column in columns:\n",
        "\n",
        "  \n",
        "  data1 = train_data[column].unique()\n",
        "  data2 = list(test_data[column].unique())\n",
        "\n",
        "  # pegando valores diferentes dos dois datasets e juntando\n",
        "  for data in data2:\n",
        "    if data not in data1:\n",
        "      data1 = np.append(data1, data)\n",
        "\n",
        "  if data1.dtype not in [np.int64, np.float64]:\n",
        "    simbols = list(range(data1.shape[0]))\n",
        "    print()\n",
        "    print(data1)\n",
        "    print(simbols)\n",
        "    print()\n",
        "\n",
        "    train_data.replace(data1, simbols, inplace=True)\n",
        "    test_data.replace(data1, simbols, inplace=True)"
      ],
      "metadata": {
        "colab": {
          "base_uri": "https://localhost:8080/"
        },
        "id": "ELc6zETBOTCD",
        "outputId": "0e1bef12-46c3-4d11-d3cb-80f0d117388c"
      },
      "execution_count": 94,
      "outputs": [
        {
          "output_type": "stream",
          "name": "stdout",
          "text": [
            "\n",
            "['RL' 'RM' 'C (all)' 'FV' 'RH']\n",
            "[0, 1, 2, 3, 4]\n",
            "\n",
            "\n",
            "['Pave' 'Grvl']\n",
            "[0, 1]\n",
            "\n",
            "\n",
            "['NA' 1 0]\n",
            "[0, 1, 2]\n",
            "\n",
            "\n",
            "['Reg' 'IR1' 'IR2' 'IR3']\n",
            "[0, 1, 2, 3]\n",
            "\n",
            "\n",
            "['Lvl' 'Bnk' 'Low' 'HLS']\n",
            "[0, 1, 2, 3]\n",
            "\n",
            "\n",
            "['AllPub']\n",
            "[0]\n",
            "\n",
            "\n",
            "['Inside' 'FR2' 'Corner' 'CulDSac' 'FR3']\n",
            "[0, 1, 2, 3, 4]\n",
            "\n",
            "\n",
            "['Gtl' 'Mod' 'Sev']\n",
            "[0, 1, 2]\n",
            "\n",
            "\n",
            "['CollgCr' 'Veenker' 'Crawfor' 'NoRidge' 'Mitchel' 'Somerst' 'OldTown'\n",
            " 'BrkSide' 'Sawyer' 'NridgHt' 'SawyerW' 'NAmes' 'IDOTRR' 'MeadowV'\n",
            " 'Timber' 'StoneBr' 'ClearCr' 'Gilbert' 'Edwards' 'NWAmes' 'NPkVill'\n",
            " 'Blmngtn' 'BrDale' 'SWISU' 'Blueste']\n",
            "[0, 1, 2, 3, 4, 5, 6, 7, 8, 9, 10, 11, 12, 13, 14, 15, 16, 17, 18, 19, 20, 21, 22, 23, 24]\n",
            "\n",
            "\n",
            "['Norm' 'Feedr' 'Artery' 'RRAe' 'RRNn' 'RRAn' 'PosN' 'PosA' 'RRNe']\n",
            "[0, 1, 2, 3, 4, 5, 6, 7, 8]\n",
            "\n",
            "\n",
            "['1Fam' '2fmCon' 'Duplex' 'TwnhsE' 'Twnhs']\n",
            "[0, 1, 2, 3, 4]\n",
            "\n",
            "\n",
            "['2Story' '1Story' '1.5Fin' '1.5Unf' 'SLvl' '2.5Unf' '2.5Fin' 'SFoyer']\n",
            "[0, 1, 2, 3, 4, 5, 6, 7]\n",
            "\n",
            "\n",
            "['Gable' 'Hip' 'Gambrel' 'Mansard' 'Flat' 'Shed']\n",
            "[0, 1, 2, 3, 4, 5]\n",
            "\n",
            "\n",
            "['CompShg' 'WdShngl' 'Membran' 'WdShake' 'Tar&Grv' 'Roll' 'ClyTile']\n",
            "[0, 1, 2, 3, 4, 5, 6]\n",
            "\n",
            "\n",
            "['VinylSd' 'MetalSd' 'Wd Sdng' 'BrkFace' 'HdBoard' 'WdShing' 'CemntBd'\n",
            " 'Stucco' 'Plywood' 'AsbShng' 'BrkComm' 'Stone' 'ImStucc' 'CBlock']\n",
            "[0, 1, 2, 3, 4, 5, 6, 7, 8, 9, 10, 11, 12, 13]\n",
            "\n",
            "\n",
            "[0 1 'Wd Shng' 4 2 8 'CmentBd' 3 7 9 'Brk Cmn' 12 'AsphShn' 'Other' 11 13]\n",
            "[0, 1, 2, 3, 4, 5, 6, 7, 8, 9, 10, 11, 12, 13, 14, 15]\n",
            "\n",
            "\n",
            "[7 'None' 14 'BrkCmn']\n",
            "[0, 1, 2, 3]\n",
            "\n",
            "\n",
            "['Gd' 'TA' 'Ex' 'Fa']\n",
            "[0, 1, 2, 3]\n",
            "\n",
            "\n",
            "['1' '3' '0' '2' 'Po' '2']\n",
            "[0, 1, 2, 3, 4, 5]\n",
            "\n",
            "\n",
            "['PConc' 15 'BrkTil' 'Wood' 'Slab' 2]\n",
            "[0, 1, 2, 3, 4, 5]\n",
            "\n",
            "\n",
            "['No' 0 'Mn' 'Av']\n",
            "[0, 1, 2, 3]\n",
            "\n",
            "\n",
            "['GLQ' 'ALQ' 'Unf' 'Rec' 1 'LwQ' 'BLQ']\n",
            "[0, 1, 2, 3, 4, 5, 6]\n",
            "\n",
            "\n",
            "['GasA' 'GasW' 'Grav' 'Wall' 'OthW']\n",
            "[0, 1, 2, 3, 4]\n",
            "\n",
            "\n",
            "['Y' 'N']\n",
            "[0, 1]\n",
            "\n",
            "\n",
            "['SBrkr' 'FuseF' 'FuseA' 'FuseP' 'Mix']\n",
            "[0, 1, 2, 3, 4]\n",
            "\n"
          ]
        },
        {
          "output_type": "stream",
          "name": "stderr",
          "text": [
            "/usr/local/lib/python3.7/dist-packages/ipykernel_launcher.py:12: FutureWarning: elementwise comparison failed; returning scalar instead, but in the future will perform elementwise comparison\n",
            "  if sys.path[0] == '':\n"
          ]
        },
        {
          "output_type": "stream",
          "name": "stdout",
          "text": [
            "\n",
            "['Typ' 'Min1' 'Maj1' 'Min2' 4 'Maj2']\n",
            "[0, 1, 2, 3, 4, 5]\n",
            "\n",
            "\n",
            "['Attchd' 'Detchd' 'BuiltIn' 'CarPort' 'Basment' '2Types']\n",
            "[0, 1, 2, 3, 4, 5]\n",
            "\n",
            "\n",
            "['RFn' 2 'Fin']\n",
            "[0, 1, 2]\n",
            "\n",
            "\n",
            "[0 1 'P']\n",
            "[0, 1, 2]\n",
            "\n",
            "\n",
            "[4 'MnPrv' 'GdPrv' 'GdWo' 'MnWw']\n",
            "[0, 1, 2, 3, 4]\n",
            "\n",
            "\n",
            "[0 5 'Othr' 'TenC' 'Gar2']\n",
            "[0, 1, 2, 3, 4]\n",
            "\n",
            "\n",
            "['WD' 'New' 'COD' 'ConLI' 'CWD' 'ConLw' 'Con' 'ConLD' 'Oth']\n",
            "[0, 1, 2, 3, 4, 5, 6, 7, 8]\n",
            "\n",
            "\n",
            "['Normal' 'Abnorml' 'Partial' 'Alloca' 'Family' 'AdjLand']\n",
            "[0, 1, 2, 3, 4, 5]\n",
            "\n"
          ]
        }
      ]
    }
  ]
}